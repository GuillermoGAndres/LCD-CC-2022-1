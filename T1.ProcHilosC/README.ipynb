{
 "cells": [
  {
   "cell_type": "markdown",
   "id": "19f56834",
   "metadata": {},
   "source": [
    "# Programación concurrente\n",
    "\n",
    "## Creación de procesos en C\n",
    "\n",
    "Crearemos nuestro primer hola mundo de la concurrencia:"
   ]
  },
  {
   "cell_type": "code",
   "execution_count": 1,
   "id": "e96dac5e",
   "metadata": {},
   "outputs": [
    {
     "name": "stdout",
     "output_type": "stream",
     "text": [
      "Writing Hola-mundo-concurrencia/main.c\n"
     ]
    }
   ],
   "source": [
    "%%writefile Hola-mundo-concurrencia/main.c\n",
    "\n",
    "#include <stdio.h>\n",
    "#include <sys/types.h>\n",
    "#include <unistd.h>\n",
    "\n",
    "int main() {\n",
    "    int pid;\n",
    "    // Creacion de un proceso\n",
    "    pid = fork();\n",
    "    printf(\"ID proceso: %d\\n\", pid);\n",
    "    if (pid)\n",
    "         printf(\"Hola soy el proceso padre!!\\n\");\n",
    "    else        \n",
    "        printf(\"Hola soy el proceso hijo!\\n\");\n",
    "    return 0;\n",
    "} "
   ]
  },
  {
   "cell_type": "code",
   "execution_count": 5,
   "id": "293f1e1b",
   "metadata": {},
   "outputs": [
    {
     "name": "stdout",
     "output_type": "stream",
     "text": [
      "ID proceso: 51416\n",
      "Hola soy el proceso padre!!\n",
      "ID proceso: 0\n",
      "Hola soy el proceso hijo!\n"
     ]
    }
   ],
   "source": [
    "%%script bash\n",
    "gcc Hola-mundo-concurrencia/main.c -o Hola-mundo-concurrencia/main.out\n",
    "\n",
    "./Hola-mundo-concurrencia/main.out"
   ]
  },
  {
   "cell_type": "markdown",
   "id": "40cac769",
   "metadata": {},
   "source": [
    "---"
   ]
  },
  {
   "cell_type": "markdown",
   "id": "5a401255",
   "metadata": {},
   "source": [
    "### Fork 1\n",
    "\n",
    "Para la creación de procesos utilizaremos la llamada al sistema `fork()`.\n",
    "\n",
    "Al llamar la funcion `fork`nos devolvera un entero que puede tener los siguientes valores:\n",
    "- Devuelve 0 al proceso hijo\n",
    "- Devuelve -1 si la operacion falla.\n",
    "- Devuelve id del proceso hijo al proceso padre"
   ]
  },
  {
   "cell_type": "code",
   "execution_count": 10,
   "id": "eebc1610",
   "metadata": {},
   "outputs": [
    {
     "name": "stdout",
     "output_type": "stream",
     "text": [
      "Overwriting 1-fork1/fork1.c\n"
     ]
    }
   ],
   "source": [
    "%%writefile 1-fork1/fork1.c\n",
    "\n",
    "#include <stdio.h>\n",
    "#include <sys/types.h>\n",
    "#include <unistd.h>\n",
    "\n",
    "int main(void){\n",
    "\n",
    "    int fpid;\n",
    "\n",
    "    fpid = fork();\n",
    "\n",
    "    printf(\"ID del proceso: %d\\n\", fpid);\n",
    "\n",
    "    if (fpid == 0)\n",
    "        // se crea el proceso hijo\n",
    "        printf(\"Proceso hijo \\n\" );\n",
    "    else\n",
    "        // ejecuta la continuación del proceso padre\n",
    "        printf(\"Proceso padre \\n\");\n",
    "\n",
    "\n",
    "    return(0);\n",
    "\n",
    "}"
   ]
  },
  {
   "cell_type": "code",
   "execution_count": 14,
   "id": "88cbc997",
   "metadata": {},
   "outputs": [
    {
     "name": "stdout",
     "output_type": "stream",
     "text": [
      "ID del proceso: 52415\n",
      "Proceso padre \n",
      "ID del proceso: 0\n",
      "Proceso hijo \n"
     ]
    }
   ],
   "source": [
    "%%script bash\n",
    "gcc ./1-fork1/fork1.c -o 1-fork1/fork1.out\n",
    "./1-fork1/fork1.out"
   ]
  },
  {
   "cell_type": "markdown",
   "id": "dedf62df",
   "metadata": {},
   "source": [
    "----\n",
    "## fork2\n",
    "\n",
    "Tanto el proceo padre como el hijo imprimiran un mensajen, pero cada uno durmira con diferentes cantidades de tiempo. Viendo el cambio de contexto mientras uno duerme el otro imprime el mensajes."
   ]
  },
  {
   "cell_type": "code",
   "execution_count": 13,
   "id": "0d99e6a3",
   "metadata": {},
   "outputs": [
    {
     "name": "stdout",
     "output_type": "stream",
     "text": [
      "Overwriting 2-fork2/fork2.c\n"
     ]
    }
   ],
   "source": [
    "%%writefile 2-fork2/fork2.c\n",
    "\n",
    "#include <stdio.h>\n",
    "#include <stdlib.h>\n",
    "#include <sys/types.h>\n",
    "#include <unistd.h>\n",
    "\n",
    "int main(void){\n",
    "\n",
    "    int i = 1;\n",
    "\n",
    "    switch(fork()){\n",
    "        // codigo para el error\n",
    "        case -1 :\n",
    "            perror(\"Error al crear el proceso\");\n",
    "            exit(-1);\n",
    "            break;\n",
    "\n",
    "        case 0 :\n",
    "        // codigo para el proceso hijo\n",
    "            while (i<=10){\n",
    "                sleep (1);\n",
    "                printf(\"\\t Soy el proceso hijo: %d\\n\", i++);\n",
    "            }\n",
    "            break;\n",
    "\n",
    "        default :\n",
    "        // codigo para el padre\n",
    "            while (i<=10){\n",
    "                printf(\"Soy el proceso padre: %d\\n\", i++);\n",
    "                sleep(2);\n",
    "            }\n",
    "    }\n",
    "\n",
    "    return(0);\n",
    "}"
   ]
  },
  {
   "cell_type": "code",
   "execution_count": 16,
   "id": "81f2437a",
   "metadata": {},
   "outputs": [
    {
     "name": "stdout",
     "output_type": "stream",
     "text": [
      "\t Soy el proceso hijo: 1\n",
      "\t Soy el proceso hijo: 2\n",
      "\t Soy el proceso hijo: 3\n",
      "\t Soy el proceso hijo: 4\n",
      "\t Soy el proceso hijo: 5\n",
      "\t Soy el proceso hijo: 6\n",
      "\t Soy el proceso hijo: 7\n",
      "\t Soy el proceso hijo: 8\n",
      "\t Soy el proceso hijo: 9\n",
      "\t Soy el proceso hijo: 10\n",
      "Soy el proceso padre: 1\n",
      "Soy el proceso padre: 2\n",
      "Soy el proceso padre: 3\n",
      "Soy el proceso padre: 4\n",
      "Soy el proceso padre: 5\n",
      "Soy el proceso padre: 6\n",
      "Soy el proceso padre: 7\n",
      "Soy el proceso padre: 8\n",
      "Soy el proceso padre: 9\n",
      "Soy el proceso padre: 10\n"
     ]
    }
   ],
   "source": [
    "%%script bash\n",
    "gcc ./2-fork2/fork2.c -o 2-fork2/fork2.out\n",
    "./2-fork2/fork2.out"
   ]
  },
  {
   "cell_type": "markdown",
   "id": "46f55551",
   "metadata": {},
   "source": [
    "---\n",
    "## Fork 3\n"
   ]
  },
  {
   "cell_type": "code",
   "execution_count": null,
   "id": "51ef79e2",
   "metadata": {},
   "outputs": [],
   "source": [
    "%%writefile 3-fork3/fork3.c\n",
    "\n",
    "#include <stdio.h>\n",
    "#include <sys/types.h>\n",
    "#include <unistd.h>\n",
    "\n",
    "int main (void)\n",
    "{\n",
    "  int i;\n",
    "  int padre;\n",
    "\n",
    "  padre = 1;\n",
    "  for (i=1; i <= 3; i++)\n",
    "  {\n",
    "    if (padre == 1)\n",
    "      {\n",
    "        if (fork() == 0) /* Proceso hijo */\n",
    "        {\n",
    "          printf(\" \\tEste es el proceso hijo %d, con ID: %d y padre ID: %d\\n\", i, getpid(), getppid() );\n",
    "          padre = 0;\n",
    "        }\n",
    "        else /* Proceso padre */\n",
    "        {\n",
    "          printf(\"Este es el proceso padre con ID %d\\n\", getpid() );\n",
    "          padre = 1;\n",
    "        }\n",
    "      }\n",
    "  }\n",
    "  return 0;\n",
    "}"
   ]
  },
  {
   "cell_type": "code",
   "execution_count": 18,
   "id": "aff74d94",
   "metadata": {},
   "outputs": [
    {
     "name": "stdout",
     "output_type": "stream",
     "text": [
      " \tEste es el proceso hijo 1, con ID: 23076 y padre ID: 23075\n",
      "Este es el proceso padre con ID 23075\n",
      " \tEste es el proceso hijo 2, con ID: 23077 y padre ID: 23075\n",
      "Este es el proceso padre con ID 23075\n",
      "Este es el proceso padre con ID 23075\n",
      "Este es el proceso padre con ID 23075\n",
      "Este es el proceso padre con ID 23075\n",
      "Este es el proceso padre con ID 23075\n",
      " \tEste es el proceso hijo 3, con ID: 23078 y padre ID: 23075\n"
     ]
    }
   ],
   "source": [
    "%%script bash\n",
    "gcc 3-fork3/fork3.c\n",
    "./a.out"
   ]
  },
  {
   "cell_type": "code",
   "execution_count": null,
   "id": "c648db2f",
   "metadata": {},
   "outputs": [],
   "source": []
  },
  {
   "cell_type": "code",
   "execution_count": null,
   "id": "94f167ce",
   "metadata": {},
   "outputs": [],
   "source": []
  },
  {
   "cell_type": "code",
   "execution_count": null,
   "id": "c25c460f",
   "metadata": {},
   "outputs": [],
   "source": []
  },
  {
   "cell_type": "code",
   "execution_count": null,
   "id": "6ca09127",
   "metadata": {},
   "outputs": [],
   "source": []
  }
 ],
 "metadata": {
  "kernelspec": {
   "display_name": "Python 3",
   "language": "python",
   "name": "python3"
  },
  "language_info": {
   "codemirror_mode": {
    "name": "ipython",
    "version": 3
   },
   "file_extension": ".py",
   "mimetype": "text/x-python",
   "name": "python",
   "nbconvert_exporter": "python",
   "pygments_lexer": "ipython3",
   "version": "3.8.8"
  }
 },
 "nbformat": 4,
 "nbformat_minor": 5
}
