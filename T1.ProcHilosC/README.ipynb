{
 "cells": [
  {
   "cell_type": "markdown",
   "id": "19f56834",
   "metadata": {},
   "source": [
    "# Programación concurrente\n",
    "\n",
    "## Creación de procesos en C\n",
    "\n",
    "Crearemos nuestro primer hola mundo de la concurrencia:"
   ]
  },
  {
   "cell_type": "code",
   "execution_count": 1,
   "id": "e96dac5e",
   "metadata": {},
   "outputs": [
    {
     "name": "stdout",
     "output_type": "stream",
     "text": [
      "Writing Hola-mundo-concurrencia/main.c\n"
     ]
    }
   ],
   "source": [
    "%%writefile Hola-mundo-concurrencia/main.c\n",
    "\n",
    "#include <stdio.h>\n",
    "#include <sys/types.h>\n",
    "#include <unistd.h>\n",
    "\n",
    "int main() {\n",
    "    int pid;\n",
    "    // Creacion de un proceso\n",
    "    pid = fork();\n",
    "    printf(\"ID proceso: %d\\n\", pid);\n",
    "    if (pid)\n",
    "         printf(\"Hola soy el proceso padre!!\\n\");\n",
    "    else        \n",
    "        printf(\"Hola soy el proceso hijo!\\n\");\n",
    "    return 0;\n",
    "} "
   ]
  },
  {
   "cell_type": "code",
   "execution_count": 5,
   "id": "293f1e1b",
   "metadata": {},
   "outputs": [
    {
     "name": "stdout",
     "output_type": "stream",
     "text": [
      "ID proceso: 51416\n",
      "Hola soy el proceso padre!!\n",
      "ID proceso: 0\n",
      "Hola soy el proceso hijo!\n"
     ]
    }
   ],
   "source": [
    "%%script bash\n",
    "gcc Hola-mundo-concurrencia/main.c -o Hola-mundo-concurrencia/main.out\n",
    "\n",
    "./Hola-mundo-concurrencia/main.out"
   ]
  },
  {
   "cell_type": "code",
   "execution_count": 7,
   "id": "75a5c8e5",
   "metadata": {},
   "outputs": [
    {
     "name": "stdout",
     "output_type": "stream",
     "text": [
      "\u001b[0m\u001b[01;32mmain.c\u001b[0m*  \u001b[01;32mmain.out\u001b[0m*\r\n"
     ]
    }
   ],
   "source": [
    "ls Hola-mundo-concurrencia/"
   ]
  },
  {
   "cell_type": "markdown",
   "id": "40cac769",
   "metadata": {},
   "source": [
    "---"
   ]
  },
  {
   "cell_type": "markdown",
   "id": "bb7738a0",
   "metadata": {},
   "source": [
    "### Fork 1"
   ]
  },
  {
   "cell_type": "code",
   "execution_count": 10,
   "id": "cad24e91",
   "metadata": {},
   "outputs": [
    {
     "name": "stdout",
     "output_type": "stream",
     "text": [
      "Overwriting 1-fork1/fork1.c\n"
     ]
    }
   ],
   "source": [
    "%%writefile 1-fork1/fork1.c\n",
    "\n",
    "#include <stdio.h>\n",
    "#include <sys/types.h>\n",
    "#include <unistd.h>\n",
    "\n",
    "int main(void){\n",
    "\n",
    "    int fpid;\n",
    "\n",
    "    fpid = fork();\n",
    "\n",
    "    printf(\"ID del proceso: %d\\n\", fpid);\n",
    "\n",
    "    if (fpid == 0)\n",
    "        // se crea el proceso hijo\n",
    "        printf(\"Proceso hijo \\n\" );\n",
    "    else\n",
    "        // ejecuta la continuación del proceso padre\n",
    "        printf(\"Proceso padre \\n\");\n",
    "\n",
    "\n",
    "    return(0);\n",
    "\n",
    "}"
   ]
  },
  {
   "cell_type": "code",
   "execution_count": 14,
   "id": "c3e68f0d",
   "metadata": {},
   "outputs": [
    {
     "name": "stdout",
     "output_type": "stream",
     "text": [
      "ID del proceso: 52415\n",
      "Proceso padre \n",
      "ID del proceso: 0\n",
      "Proceso hijo \n"
     ]
    }
   ],
   "source": [
    "%%script bash\n",
    "gcc ./1-fork1/fork1.c -o 1-fork1/fork1.out\n",
    "./1-fork1/fork1.out"
   ]
  }
 ],
 "metadata": {
  "kernelspec": {
   "display_name": "Python 3",
   "language": "python",
   "name": "python3"
  },
  "language_info": {
   "codemirror_mode": {
    "name": "ipython",
    "version": 3
   },
   "file_extension": ".py",
   "mimetype": "text/x-python",
   "name": "python",
   "nbconvert_exporter": "python",
   "pygments_lexer": "ipython3",
   "version": "3.8.8"
  }
 },
 "nbformat": 4,
 "nbformat_minor": 5
}
