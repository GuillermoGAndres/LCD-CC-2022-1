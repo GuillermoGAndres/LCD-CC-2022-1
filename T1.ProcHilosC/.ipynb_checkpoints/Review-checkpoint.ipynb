{
 "cells": [
  {
   "cell_type": "markdown",
   "id": "19f56834",
   "metadata": {},
   "source": [
    "# Programación concurrente\n",
    "\n",
    "## Creación de procesos en C\n",
    "\n",
    "Crearemos nuestro primer hola mundo concurrente:"
   ]
  },
  {
   "cell_type": "code",
   "execution_count": 1,
   "id": "e96dac5e",
   "metadata": {},
   "outputs": [
    {
     "name": "stdout",
     "output_type": "stream",
     "text": [
      "Overwriting 1-Hola-mundo-concurrencia/main.c\n"
     ]
    }
   ],
   "source": [
    "%%writefile 1-Hola-mundo-concurrencia/main.c\n",
    "\n",
    "#include <stdio.h>\n",
    "#include <sys/types.h>\n",
    "#include <unistd.h>\n",
    "\n",
    "int main() {\n",
    "    int pid;\n",
    "    // Creacion de un proceso\n",
    "    pid = fork();\n",
    "    printf(\"ID proceso: %d\\n\", pid);\n",
    "    if (pid)\n",
    "         printf(\"Hola soy el proceso padre!!\\n\");\n",
    "    else        \n",
    "        printf(\"Hola soy el proceso hijo!\\n\");\n",
    "    return 0;\n",
    "} "
   ]
  },
  {
   "cell_type": "code",
   "execution_count": 2,
   "id": "293f1e1b",
   "metadata": {},
   "outputs": [
    {
     "name": "stdout",
     "output_type": "stream",
     "text": [
      "ID proceso: 44166\n",
      "Hola soy el proceso padre!!\n",
      "ID proceso: 0\n",
      "Hola soy el proceso hijo!\n"
     ]
    }
   ],
   "source": [
    "%%script bash\n",
    "gcc 1-Hola-mundo-concurrencia/main.c -o 1-Hola-mundo-concurrencia/main.out\n",
    "\n",
    "./1-Hola-mundo-concurrencia/main.out"
   ]
  },
  {
   "cell_type": "code",
   "execution_count": 3,
   "id": "75a5c8e5",
   "metadata": {},
   "outputs": [
    {
     "name": "stdout",
     "output_type": "stream",
     "text": [
      "total 25\r\n",
      "-rwxrwxrwx. 1 root root   319 Sep 18 14:47 \u001b[0m\u001b[01;32mmain.c\u001b[0m*\r\n",
      "-rwxrwxrwx. 1 root root 24456 Sep 18 14:47 \u001b[01;32mmain.out\u001b[0m*\r\n"
     ]
    }
   ],
   "source": [
    "ls -l 1-Hola-mundo-concurrencia/"
   ]
  },
  {
   "cell_type": "markdown",
   "id": "40cac769",
   "metadata": {},
   "source": [
    "---"
   ]
  },
  {
   "cell_type": "code",
   "execution_count": null,
   "id": "646b3c9d",
   "metadata": {},
   "outputs": [],
   "source": []
  }
 ],
 "metadata": {
  "kernelspec": {
   "display_name": "Python 3",
   "language": "python",
   "name": "python3"
  },
  "language_info": {
   "codemirror_mode": {
    "name": "ipython",
    "version": 3
   },
   "file_extension": ".py",
   "mimetype": "text/x-python",
   "name": "python",
   "nbconvert_exporter": "python",
   "pygments_lexer": "ipython3",
   "version": "3.8.8"
  }
 },
 "nbformat": 4,
 "nbformat_minor": 5
}
