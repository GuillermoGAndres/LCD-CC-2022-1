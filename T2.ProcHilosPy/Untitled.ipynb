{
 "cells": [
  {
   "cell_type": "code",
   "execution_count": 5,
   "id": "8802f830",
   "metadata": {},
   "outputs": [
    {
     "name": "stdout",
     "output_type": "stream",
     "text": [
      "((0, 0), (1, 1), (2, 2), (3, 3), (4, 4), (5, 5), (6, 6), (7, 7), (8, 8), (9, 9))\n",
      "Resultado del proceso: [0, 1, 4, 9, 16, 25, 36, 49, 64, 81]\n",
      "Resultado fuera del proceso: 0.0\n",
      "Resultado fuera del proceso: 0.0\n",
      "Tiempo de ejecución:  0.049314022064208984\n",
      "Finaliza ejecución\n"
     ]
    }
   ],
   "source": [
    "\n",
    "import multiprocessing as mp\n",
    "import time\n",
    "\n",
    "def calc_cuad(numeros, val):\n",
    "    result = []\n",
    "    for idx, n in enumerate(numeros):\n",
    "        #print(idx)\n",
    "        #result[idx] = n * n      #corregir el llenado de resul\n",
    "        result.append(n*n)\n",
    "    print(\"Resultado del proceso:\", result[:])   \n",
    "    print(\"Resultado fuera del proceso:\", val.value)\n",
    "\n",
    "nums = range(10)\n",
    "t = time.time()\n",
    "print(tuple(enumerate(nums)))\n",
    "val = mp.Value('d', 0.0)\n",
    "p1 = mp.Process(target=calc_cuad, args=(nums, val))\n",
    "\n",
    "p1.start()\n",
    "p1.join()\n",
    "\n",
    "#print(\"Resultado fuera del proceso:\", result[:])   # ¿puedo ver result aquí?\n",
    "print(\"Resultado fuera del proceso:\", val.value)\n",
    "\n",
    "print(\"Tiempo de ejecución: \", time.time()-t)\n",
    "print(\"Finaliza ejecución\")"
   ]
  },
  {
   "cell_type": "code",
   "execution_count": 4,
   "id": "5d049d77",
   "metadata": {},
   "outputs": [
    {
     "ename": "IndexError",
     "evalue": "list assignment index out of range",
     "output_type": "error",
     "traceback": [
      "\u001b[0;31m---------------------------------------------------------------------------\u001b[0m",
      "\u001b[0;31mIndexError\u001b[0m                                Traceback (most recent call last)",
      "\u001b[0;32m<ipython-input-4-39ad6241dc0e>\u001b[0m in \u001b[0;36m<module>\u001b[0;34m\u001b[0m\n\u001b[1;32m      1\u001b[0m \u001b[0mx\u001b[0m \u001b[0;34m=\u001b[0m \u001b[0;34m[\u001b[0m\u001b[0;34m]\u001b[0m\u001b[0;34m\u001b[0m\u001b[0;34m\u001b[0m\u001b[0m\n\u001b[0;32m----> 2\u001b[0;31m \u001b[0mx\u001b[0m\u001b[0;34m[\u001b[0m\u001b[0;36m0\u001b[0m\u001b[0;34m]\u001b[0m \u001b[0;34m=\u001b[0m \u001b[0;36m5\u001b[0m\u001b[0;34m\u001b[0m\u001b[0;34m\u001b[0m\u001b[0m\n\u001b[0m\u001b[1;32m      3\u001b[0m \u001b[0mprint\u001b[0m\u001b[0;34m(\u001b[0m\u001b[0mx\u001b[0m\u001b[0;34m)\u001b[0m\u001b[0;34m\u001b[0m\u001b[0;34m\u001b[0m\u001b[0m\n",
      "\u001b[0;31mIndexError\u001b[0m: list assignment index out of range"
     ]
    }
   ],
   "source": [
    "x = []\n",
    "x[0] = 5\n",
    "print(x)"
   ]
  },
  {
   "cell_type": "code",
   "execution_count": 3,
   "id": "dc78bae8",
   "metadata": {},
   "outputs": [
    {
     "name": "stdout",
     "output_type": "stream",
     "text": [
      "{0: 5}\n"
     ]
    }
   ],
   "source": [
    "x = {}\n",
    "x[0] = 5\n",
    "print(x)"
   ]
  },
  {
   "cell_type": "code",
   "execution_count": null,
   "id": "822574ec",
   "metadata": {},
   "outputs": [],
   "source": []
  },
  {
   "cell_type": "code",
   "execution_count": 7,
   "id": "db4a7416",
   "metadata": {},
   "outputs": [
    {
     "name": "stdout",
     "output_type": "stream",
     "text": [
      "Resultado del proceso: [0, 1, 4, 9, 16, 25, 36, 49, 64, 81]\n",
      "Resultado fuera del proceso: [0, 1, 4, 9, 16, 25, 36, 49, 64, 81]\n",
      "Tiempo de ejecución:  0.04558134078979492\n",
      "Finaliza ejecución\n"
     ]
    }
   ],
   "source": [
    "import multiprocessing as mp\n",
    "import time\n",
    "\n",
    "def calc_cuad(numeros, result):\n",
    "    for idx, n in enumerate(numeros):\n",
    "        result[idx] = n * n #¿esto funciona si ya vimos que no?   \n",
    "    print(\"Resultado del proceso:\", result[:])    \n",
    "\n",
    "nums = range(10)\n",
    "\n",
    "t = time.time()\n",
    "result = mp.Array('i', 10)\n",
    "p1 = mp.Process(target=calc_cuad, args=(nums,result))\n",
    "\n",
    "p1.start()\n",
    "p1.join()\n",
    "\n",
    "print(\"Resultado fuera del proceso:\", result[:]) # ¿vamos a poder ver el contenido de result?\n",
    "\n",
    "print(\"Tiempo de ejecución: \", time.time()-t)\n",
    "print(\"Finaliza ejecución\")"
   ]
  },
  {
   "cell_type": "code",
   "execution_count": 12,
   "id": "9167886a",
   "metadata": {},
   "outputs": [
    {
     "name": "stdout",
     "output_type": "stream",
     "text": [
      "['Hola mundo', 4]\n"
     ]
    }
   ],
   "source": [
    "from multiprocessing import Process, Pipe\n",
    "\n",
    "def f(conn):\n",
    "    conn.send(['Hola mundo', 4])\n",
    "    conn.close()\n",
    "\n",
    "if __name__ == '__main__':\n",
    "    parent_conn, child_conn = Pipe()\n",
    "    p = Process(target=f, args=(child_conn,))\n",
    "    p.start()\n",
    "    print(parent_conn.recv())\n",
    "    p.join()"
   ]
  }
 ],
 "metadata": {
  "kernelspec": {
   "display_name": "Python 3",
   "language": "python",
   "name": "python3"
  },
  "language_info": {
   "codemirror_mode": {
    "name": "ipython",
    "version": 3
   },
   "file_extension": ".py",
   "mimetype": "text/x-python",
   "name": "python",
   "nbconvert_exporter": "python",
   "pygments_lexer": "ipython3",
   "version": "3.8.8"
  }
 },
 "nbformat": 4,
 "nbformat_minor": 5
}
